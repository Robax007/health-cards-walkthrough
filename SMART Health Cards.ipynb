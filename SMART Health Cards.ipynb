{
 "cells": [
  {
   "cell_type": "markdown",
   "id": "thick-dominican",
   "metadata": {},
   "source": [
    "# SMART Health Cards\n",
    "\n",
    "This notebook is designed to give an overview of [SMART Health Cards Framework](https://smarthealth.cards/) and how it works.\n",
    "\n",
    "\n",
    "This notebook is written in JavaScript and uses the [IJavascript kernel](https://github.com/n-riesco/ijavascript) for Jupyter Notebook."
   ]
  },
  {
   "cell_type": "markdown",
   "id": "portable-reducing",
   "metadata": {},
   "source": [
    "## Walkthrough\n",
    "\n",
    "The high level outline is as follows:\n",
    "* FHIR Bundle is created\n",
    "* FHIR Bundle is minified\n",
    "* SMART Health Card is created from FHIR Bundle\n",
    "* SMART Health Card is encoded as a JWS\n",
    "* Patient Retrieves the SMART Health Cards via:\n",
    "  * File Download\n",
    "  * QR Code\n",
    "  * FHIR API"
   ]
  },
  {
   "cell_type": "markdown",
   "id": "natural-gothic",
   "metadata": {},
   "source": [
    "### The FHIR Bundle\n",
    "\n",
    "A SMART Health Card is composed of a [W3C Verifiable Credential](https://w3c.github.io/vc-data-model/), [encoded as a JWT](https://w3c.github.io/vc-data-model/#jwt-encoding), with a Credential Subject that contains the FHIR version and a FHIR Bundle (See [Modeling W3C Verifiable Credentials in FHIR](https://smarthealth.cards/credential-modeling/).\n",
    "\n",
    "The FHIR Bundle contains the health care information.\n",
    "\n",
    "Let's assume we have the below FHIR Bundle ([Example 0](https://smarthealth.cards/examples/example-00-a-fhirBundle.json) at the time of writing). This FHIR Bundle could be produced in a number of ways, but for now let's imagine that the patient, John B. Anyperson, has just received his second COVID-19 vaccination shot and the healthcare worker entered his information into their system which produced the below in their system."
   ]
  },
  {
   "cell_type": "code",
   "execution_count": 1,
   "id": "useful-reset",
   "metadata": {},
   "outputs": [],
   "source": [
    "const fhirBundle = {\n",
    "  \"resourceType\": \"Bundle\",\n",
    "  \"type\": \"collection\",\n",
    "  \"entry\": [\n",
    "    {\n",
    "      \"fullUrl\": \"resource:0\",\n",
    "      \"resource\": {\n",
    "        \"resourceType\": \"Patient\",\n",
    "        \"name\": [\n",
    "          {\n",
    "            \"family\": \"Roby\",\n",
    "            \"given\": [\n",
    "              \"John\",\n",
    "              \"B.\"\n",
    "            ]\n",
    "          }\n",
    "        ],\n",
    "        \"birthDate\": \"1951-01-20\"\n",
    "      }\n",
    "    },\n",
    "    {\n",
    "      \"fullUrl\": \"resource:1\",\n",
    "      \"resource\": {\n",
    "        \"resourceType\": \"Immunization\",\n",
    "        \"status\": \"completed\",\n",
    "        \"vaccineCode\": {\n",
    "          \"coding\": [\n",
    "            {\n",
    "              \"system\": \"http://hl7.org/fhir/sid/cvx\",\n",
    "              \"code\": \"207\"\n",
    "            }\n",
    "          ]\n",
    "        },\n",
    "        \"patient\": {\n",
    "          \"reference\": \"resource:0\"\n",
    "        },\n",
    "        \"occurrenceDateTime\": \"2021-01-01\",\n",
    "        \"performer\": [\n",
    "          {\n",
    "            \"actor\": {\n",
    "              \"display\": \"ABC General Hospital\"\n",
    "            }\n",
    "          }\n",
    "        ],\n",
    "        \"lotNumber\": \"0000001\"\n",
    "      }\n",
    "    },\n",
    "    {\n",
    "      \"fullUrl\": \"resource:2\",\n",
    "      \"resource\": {\n",
    "        \"resourceType\": \"Immunization\",\n",
    "        \"status\": \"completed\",\n",
    "        \"vaccineCode\": {\n",
    "          \"coding\": [\n",
    "            {\n",
    "              \"system\": \"http://hl7.org/fhir/sid/cvx\",\n",
    "              \"code\": \"207\"\n",
    "            }\n",
    "          ]\n",
    "        },\n",
    "        \"patient\": {\n",
    "          \"reference\": \"resource:0\"\n",
    "        },\n",
    "        \"occurrenceDateTime\": \"2021-01-29\",\n",
    "        \"performer\": [\n",
    "          {\n",
    "            \"actor\": {\n",
    "              \"display\": \"ABC General Hospital\"\n",
    "            }\n",
    "          }\n",
    "        ],\n",
    "        \"lotNumber\": \"0000007\"\n",
    "      }\n",
    "    }\n",
    "  ]\n",
    "}"
   ]
  },
  {
   "cell_type": "markdown",
   "id": "found-murray",
   "metadata": {},
   "source": [
    "A couple things to note in the above JSON. This is a Bundle that contains 3 resources: one for the patient, one for the first vaccination, and another for the second vaccination. This Bundle conforms to the requirements laid out in [SMART Health Cards: Vaccination & Testing Implementation Guide](http://build.fhir.org/ig/dvci/vaccine-credential-ig/branches/main/) which defines what resources should be included in the Health Card. Specifically, this is an example of [Vaccine Credential Bundle - Data Minimization](http://build.fhir.org/ig/dvci/vaccine-credential-ig/branches/main/StructureDefinition-vaccine-credential-bundle-dm.html). We'll talk about what \"Data Minimization\" means in a second.\n",
    "\n",
    "Now let's create the \"Expanded Health Card\"."
   ]
  },
  {
   "cell_type": "markdown",
   "id": "excited-fraction",
   "metadata": {},
   "source": [
    "### Expanded Health Card\n",
    "\n",
    "The Expanded Health Card shows what the Health Card looks like before it is minified and serialized using the compact JWS serialization.\n",
    "\n",
    "[Health Cards are encoded as Compact Serialization JSON Web Signatures (JWS)](https://smarthealth.cards/#health-cards-are-encoded-as-compact-serialization-json-web-signatures-jws) and [Modeling W3C Verifiable Credentials in FHIR](https://smarthealth.cards/credential-modeling/) cover this in more detail.\n",
    "\n",
    "Before we get into the details it's important to note that some of the VC properties are mapped to standard JWT fields when using the [JWT encoding](https://w3c.github.io/vc-data-model/#jwt-encoding) (which we are). These include the `iss` and `nbf` fields.\n",
    "\n",
    "Below shows the expanded Health Card for the example:"
   ]
  },
  {
   "cell_type": "code",
   "execution_count": 2,
   "id": "fleet-cream",
   "metadata": {},
   "outputs": [],
   "source": [
    "const expandedHealthCard = {\n",
    "  \"iss\": \"https://smarthealth.cards/examples/issuer\",\n",
    "  \"nbf\": Date.now() / 1000,\n",
    "  \"vc\": {\n",
    "    \"@context\": [\n",
    "      \"https://www.w3.org/2018/credentials/v1\"\n",
    "    ],\n",
    "    \"type\": [\n",
    "      \"VerifiableCredential\",\n",
    "      \"https://smarthealth.cards#health-card\",\n",
    "      \"https://smarthealth.cards#immunization\",\n",
    "      \"https://smarthealth.cards#covid19\"\n",
    "    ],\n",
    "    \"credentialSubject\": {\n",
    "        \"fhirVersion\": \"4.0.1\",\n",
    "        \"fhirBundle\": fhirBundle\n",
    "    }\n",
    "  }\n",
    "}"
   ]
  },
  {
   "cell_type": "markdown",
   "id": "interpreted-estate",
   "metadata": {},
   "source": [
    "Let's talk about the three root fields:\n",
    "\n",
    "`iss` - This represents the [Issuer](https://w3c.github.io/vc-data-model/#issuer)\n",
    "  * Note this property is represented by `iss` according to the [JWT Encoding Rules](https://w3c.github.io/vc-data-model/#jwt-encoding)\n",
    "\n",
    "`nbf` - This represents the [IssuanceDate](https://w3c.github.io/vc-data-model/#issuance-date)\n",
    "  * Note this property is represented by `nbf`.\n",
    "\n",
    "`vc` - This represents the VC claim minus all the unmapped fields (`iss` and `nbf`)\n",
    "\n",
    "\n",
    "TODO: Fill out the rest of these properties"
   ]
  },
  {
   "cell_type": "markdown",
   "id": "related-cruise",
   "metadata": {},
   "source": [
    "### Health Cards are Small\n",
    "\n",
    "SMART Health Cards can be issued on pieces of paper via QR Codes. This introduces some unique size constraints in order to keep the number and size of QR codes manageable. When using and applying SMART Health Cards, it's important to keep them small.\n",
    "\n",
    "The SMART Health Card spec requires that [the JWS payload is minified and compressed](https://smarthealth.cards/#health-cards-are-small) in order to reduce payload size.\n",
    "\n",
    "SMART Health Cards are designed to be be atomic and shared as a whole. Information within the Health Card cannot be removed without affecting the verifiability of the Health Card. This imposes a privacy challenge when too much information is included in a single Health Card.\n",
    "\n",
    "The \"Data Minimization\" profiles in the IG are designed to address these size and privacy concerns by ensuring the FHIR profiles only require the minimal set of information to achieve the desired results.\n",
    "\n",
    "Below the JWS Payload (i.e. the \"Expanded Health Card\") is compressed according to the spec:"
   ]
  },
  {
   "cell_type": "code",
   "execution_count": 3,
   "id": "seasonal-begin",
   "metadata": {
    "scrolled": true
   },
   "outputs": [
    {
     "name": "stdout",
     "output_type": "stream",
     "text": [
      "{\"iss\":\"https://smarthealth.cards/examples/issuer\",\"nbf\":1620992383.218,\"vc\":{\"@context\":[\"https://www.w3.org/2018/credentials/v1\"],\"type\":[\"VerifiableCredential\",\"https://smarthealth.cards#health-card\",\"https://smarthealth.cards#immunization\",\"https://smarthealth.cards#covid19\"],\"credentialSubject\":{\"fhirVersion\":\"4.0.1\",\"fhirBundle\":{\"resourceType\":\"Bundle\",\"type\":\"collection\",\"entry\":[{\"fullUrl\":\"resource:0\",\"resource\":{\"resourceType\":\"Patient\",\"name\":[{\"family\":\"Anyperson\",\"given\":[\"John\",\"B.\"]}],\"birthDate\":\"1951-01-20\"}},{\"fullUrl\":\"resource:1\",\"resource\":{\"resourceType\":\"Immunization\",\"status\":\"completed\",\"vaccineCode\":{\"coding\":[{\"system\":\"http://hl7.org/fhir/sid/cvx\",\"code\":\"207\"}]},\"patient\":{\"reference\":\"resource:0\"},\"occurrenceDateTime\":\"2021-01-01\",\"performer\":[{\"actor\":{\"display\":\"ABC General Hospital\"}}],\"lotNumber\":\"0000001\"}},{\"fullUrl\":\"resource:2\",\"resource\":{\"resourceType\":\"Immunization\",\"status\":\"completed\",\"vaccineCode\":{\"coding\":[{\"system\":\"http://hl7.org/fhir/sid/cvx\",\"code\":\"207\"}]},\"patient\":{\"reference\":\"resource:0\"},\"occurrenceDateTime\":\"2021-01-29\",\"performer\":[{\"actor\":{\"display\":\"ABC General Hospital\"}}],\"lotNumber\":\"0000007\"}}]}}}}\n"
     ]
    }
   ],
   "source": [
    "// Remove the optional whitespace\n",
    "const noWhiteSpaceHealthCard = JSON.stringify(expandedHealthCard)\n",
    "console.log(noWhiteSpaceHealthCard)"
   ]
  },
  {
   "cell_type": "code",
   "execution_count": 4,
   "id": "divine-casino",
   "metadata": {},
   "outputs": [],
   "source": [
    "// Normally we'd remove some of the fhirBundle elements at \n",
    "// this step ( e.g. Resource.id, Resource.meta, CodebableConcept.text).\n",
    "// These are already missing from the original payload, so we'll skip that here\n",
    "\n",
    "// Compress the payload with DEFLATE, omitting any zlib headers\n",
    "\n",
    "const compressedPayload = zlib.deflateRawSync(noWhiteSpaceHealthCard)"
   ]
  },
  {
   "cell_type": "markdown",
   "id": "southwest-output",
   "metadata": {},
   "source": [
    "### Creating the Signed Health Card\n",
    "\n",
    "Now that we have the compressed payload we can sign it as a JWS. First, let's create the key pair for signing and verifying."
   ]
  },
  {
   "cell_type": "code",
   "execution_count": 5,
   "id": "wanted-mistress",
   "metadata": {},
   "outputs": [],
   "source": [
    "var jose = require('node-jose');\n",
    "\n",
    "const keystore = jose.JWK.createKeyStore()\n",
    "\n",
    "let signingKey;\n",
    "\n",
    "keystore.generate(\"EC\", \"P-256\").\n",
    "        then(function(result) {\n",
    "          // {result} is a jose.JWK.Key\n",
    "          signingKey = result;\n",
    "        });"
   ]
  },
  {
   "cell_type": "code",
   "execution_count": 6,
   "id": "characteristic-directory",
   "metadata": {},
   "outputs": [
    {
     "data": {
      "text/plain": [
       "{\n",
       "  keys: [\n",
       "    {\n",
       "      kty: 'EC',\n",
       "      kid: 'OBztBGRexV0me4ycPTBp-lAMWQmU1_OY1q8m4awW_34',\n",
       "      crv: 'P-256',\n",
       "      x: 'QAZAgs57sUldJ7j6vTYYaCqmfw-c2NZe8QcMXvcO_zQ',\n",
       "      y: 'YPIpuT4l31Ou4eSsRneytCXJruEL6KZELphwDmc1AVM',\n",
       "      d: 'Xv7WdnXYh3PgP_G6L0sd-T4B4iPUIz-fMWMRJBJBuhA'\n",
       "    }\n",
       "  ]\n",
       "}"
      ]
     },
     "execution_count": 6,
     "metadata": {},
     "output_type": "execute_result"
    }
   ],
   "source": [
    "// Print the entire key store, including the `d` member which contains the private key value\n",
    "// Remove true to just present the public key\n",
    "// See: https://tools.ietf.org/id/draft-jones-jose-json-private-and-symmetric-key-00.html#rfc.section.3.1.1\n",
    "keystore.toJSON(true);"
   ]
  },
  {
   "cell_type": "markdown",
   "id": "ordered-preserve",
   "metadata": {},
   "source": [
    "With a signing key in hand we can create the JWS:"
   ]
  },
  {
   "cell_type": "code",
   "execution_count": 7,
   "id": "fantastic-absorption",
   "metadata": {},
   "outputs": [
    {
     "name": "stdout",
     "output_type": "stream",
     "text": [
      "eyJ6aXAiOiJERUYiLCJhbGciOiJFUzI1NiIsImtpZCI6Ik9CenRCR1JleFYwbWU0eWNQVEJwLWxBTVdRbVUxX09ZMXE4bTRhd1dfMzQifQ.3VJNj9MwEP0rq-HaJnEKtM0JWiQ-DgiJXS6oB9eZNkaOHdlO2rLKf2fGbReQdvfECd_GfvPmvee5Bx0CVNDE2IUqz0MrfWxQmthkSvo65HiUbWcw5ATs0cME7HYHlXhdFstlOVvMslIsJjAoqO7hjXI24jFC9f2B8nA4ZIdZ5vw-LwuxyJXHGm3U0oR8ELCZQDx1yB3f0OudlluD6wcMzXtS24tzMeXiWZxu297qnzJqZ58FKjfoWixZ1G-ZX_vtD1SR_e0a7UllYJ4KXmZFJoiPb1e9rQ0yxmNwvVd4m1zB5eHqEpQzhtjOSmiAP5F1Yu6NufOGANf-qiDAtXiE-AvZoX7-ENnimUS22hAfvLWE8SHN2OsBLcf7yTVcrzLYjGRwq8n8OxmZSyxfiWkhpmUB4zh5VI14Xs3HvyMOUcY-JLu8PRH5gwaplLa4dnViUK7Wdp-Eh1OI2F72kH6mMfO0MJxsHnSdq-FIBCp1QlnMYdyME-guESQ5O_RoWdufCRLIKdX79MRmb3V7piiT4YJtUVQ751tabtYiVXSeKWsdOiNTnKv1zXu06KW5-eBCpyMt5sghGhc_9-2WW6FIRzyZYPlfJlgu_3WCc34Y6fwC.RH5TVWB-aYrPnbtb2LXU9gpC1WRra0gQHjZxSE_htNScq8NdIdgoUt5C1kvdiXbYqD79W87si9x66fFCwmCmgw\n"
     ]
    }
   ],
   "source": [
    "const fields = { zip: 'DEF' }\n",
    "\n",
    "let jws;\n",
    "\n",
    "jose.JWS.createSign({ format: 'compact', fields }, signingKey)\n",
    "    .update(Buffer.from(compressedPayload))\n",
    "    .final()\n",
    "    .then(function(result) {\n",
    "        jws = result;\n",
    "        console.log(jws)\n",
    "});"
   ]
  },
  {
   "cell_type": "markdown",
   "id": "pediatric-pressing",
   "metadata": {},
   "source": [
    "Now that we have the JWS we should check that we can actually verify the signature"
   ]
  },
  {
   "cell_type": "code",
   "execution_count": 8,
   "id": "difficult-packing",
   "metadata": {},
   "outputs": [
    {
     "name": "stdout",
     "output_type": "stream",
     "text": [
      "{\n",
      "  protected: [ 'zip', 'alg', 'kid' ],\n",
      "  header: {\n",
      "    zip: 'DEF',\n",
      "    alg: 'ES256',\n",
      "    kid: 'OBztBGRexV0me4ycPTBp-lAMWQmU1_OY1q8m4awW_34'\n",
      "  },\n",
      "  payload: <Buffer dd 52 4d 8f d3 30 10 fd 2b ab e1 da 26 71 0a b4 cd 09 5a 24 3e 0e 08 89 5d 2e a8 07 d7 99 36 46 8e 1d d9 4e da b2 ca 7f 67 c6 6d 17 90 76 f7 c4 09 df ... 415 more bytes>,\n",
      "  signature: <Buffer 44 7e 53 55 60 7e 69 8a cf 9d bb 5b d8 b5 d4 f6 0a 42 d5 64 6b 6b 48 10 1e 36 71 48 4f e1 b4 d4 9c ab c3 5d 21 d8 28 52 de 42 d6 4b dd 89 76 d8 a8 3e ... 14 more bytes>,\n",
      "  key: JWKBaseKeyObject {\n",
      "    keystore: JWKStore {},\n",
      "    length: 256,\n",
      "    kty: 'EC',\n",
      "    kid: 'OBztBGRexV0me4ycPTBp-lAMWQmU1_OY1q8m4awW_34',\n",
      "    use: '',\n",
      "    alg: ''\n",
      "  }\n",
      "}\n"
     ]
    }
   ],
   "source": [
    "jose.JWS.createVerify(signingKey)\n",
    "    .verify(jws).then(function(result) {\n",
    "    console.log(result)\n",
    "})"
   ]
  },
  {
   "cell_type": "markdown",
   "id": "discrete-morrison",
   "metadata": {},
   "source": [
    "Let's also create a fake key and test with that to make sure we aren't getting a false positive"
   ]
  },
  {
   "cell_type": "code",
   "execution_count": 9,
   "id": "biological-consumer",
   "metadata": {},
   "outputs": [],
   "source": [
    "let fakeKey;\n",
    "\n",
    "keystore.generate(\"EC\", \"P-256\").\n",
    "        then(function(result) {\n",
    "          // {result} is a jose.JWK.Key\n",
    "          fakeKey = result;\n",
    "        });"
   ]
  },
  {
   "cell_type": "code",
   "execution_count": 10,
   "id": "modern-label",
   "metadata": {},
   "outputs": [
    {
     "ename": "Error",
     "evalue": "no key found",
     "output_type": "error",
     "traceback": [
      "Error: no key found",
      "    at processSig (/Users/radamson/software/vci/health-cards-walkthrough/node_modules/node-jose/lib/jws/verify.js:131:22)",
      "    at processTicksAndRejections (node:internal/process/task_queues:94:5)"
     ]
    }
   ],
   "source": [
    "// Note \"Error: no key found\" is the generic error message for keys that won't decrypt\n",
    "// See: https://github.com/cisco/node-jose/issues/262\n",
    "jose.JWS.createVerify(fakeKey)\n",
    "    .verify(jws).then(function(result) {\n",
    "    console.log(result)\n",
    "})"
   ]
  },
  {
   "cell_type": "markdown",
   "id": "surrounded-conditioning",
   "metadata": {},
   "source": [
    "### QR Code Generation\n",
    "\n",
    "Now that we have a JWS we can turn that into a QR Code which can be scanned. We won't worry about chunking just yet since the payload is below the 1195 character threshold in this example, but its a simple addition and [this code snippet](https://github.com/smart-on-fhir/health-cards/blob/152a4f83b223b5fd14027f765e957e290649f2c0/generate-examples/src/index.ts#L146) goes over the process."
   ]
  },
  {
   "cell_type": "code",
   "execution_count": 11,
   "id": "presidential-turkey",
   "metadata": {},
   "outputs": [
    {
     "name": "stdout",
     "output_type": "stream",
     "text": [
      "shc:/56762909524320603460292437404460312229595326546034602925407728043360287028647167452228092862122256653722370429635625447453424003564233364124297431427521394155375341407543031245324324075339375955045557327736605736010641293361123274243503696800275229652430713203294260360023586029433809662112564533625234275563340569313057055726533756365573572422555026577335647356560821750322413323240528406877033269574275366471596238736609082760405342547408203970035432241027442763435955257071633441733270632870296120666834105961432805076125221257052111652007452855450873740031747275762943272664064003663711243122453623750476210657033472556363722309745432774371380507717732564360424575720512106865772968450811253061576642607545042600454350737123043837505603521040636344290730436445252966603553045612693603767564337473415507640477210856276824673677597161343864602035082504447209337257342620335700686023207143602400207345664310002433656064403805055920577331422411382733053470213154571076394154697731446126377468116511347564453876755760426259676440210777590841280407437006277376323440544400293172113537270858745267633152075565416040301042556700245904342805251005622709643257340332297570276538556800252821226704366365324455763224005872243836083450376642557257223731283055431012323764530641106760603907442971404136100804715253714460414338563042705534603339653073047743720309304208005621226776327108705859265954501200054242092528377776454435635729635872500642225406074409577422013727083941422100524469356553715305314340125867220442376952035836276145753824505971333854681133552855586640710822046273556043534468231012421110706012750909572522746422645874\n"
     ]
    }
   ],
   "source": [
    "// Convert to numeric mode QR\n",
    "\n",
    "// This code snippet was adapted/taken from https://github.com/smart-on-fhir/health-cards/blob/152a4f83b223b5fd14027f765e957e290649f2c0/generate-examples/src/index.ts#L173\n",
    "const numericJWS = jws.split('')\n",
    "    .map((c) => c.charCodeAt(0) - 45)\n",
    "    .flatMap((c) => [Math.floor(c / 10), c % 10]) //Need to maintain leading zeros\n",
    "    .join('')\n",
    "\n",
    "const qrCodeData = 'shc:/' + numericJWS\n",
    "\n",
    "console.log(qrCodeData)"
   ]
  },
  {
   "cell_type": "markdown",
   "id": "undefined-telephone",
   "metadata": {},
   "source": [
    "The above shows what the value of the QR code will be, with the leading `byte` segment and the `numeric` segment following"
   ]
  },
  {
   "cell_type": "code",
   "execution_count": 14,
   "id": "macro-shift",
   "metadata": {
    "scrolled": false
   },
   "outputs": [
    {
     "data": {
      "image/svg+xml": [
       "<svg xmlns=\"http://www.w3.org/2000/svg\" viewBox=\"0 0 113 113\" shape-rendering=\"crispEdges\"><path fill=\"#ffffff\" d=\"M0 0h113v113H0z\"/><path stroke=\"#000000\" d=\"M4 4.5h7m3 0h1m1 0h1m1 0h1m1 0h2m6 0h4m4 0h2m2 0h2m1 0h1m3 0h5m2 0h1m1 0h2m2 0h1m1 0h1m1 0h4m1 0h2m5 0h2m2 0h1m2 0h1m1 0h1m3 0h3m1 0h2m1 0h3m3 0h7M4 5.5h1m5 0h1m1 0h2m4 0h3m1 0h4m1 0h2m3 0h4m1 0h2m2 0h1m1 0h3m2 0h1m1 0h1m1 0h1m2 0h3m3 0h2m1 0h2m1 0h2m1 0h4m1 0h3m4 0h2m1 0h1m2 0h1m1 0h1m2 0h2m2 0h2m3 0h1m5 0h1M4 6.5h1m1 0h3m1 0h1m2 0h2m4 0h3m6 0h4m1 0h2m2 0h1m3 0h1m1 0h2m1 0h2m1 0h1m1 0h1m1 0h1m1 0h2m1 0h3m2 0h3m1 0h1m1 0h4m3 0h1m2 0h4m2 0h1m1 0h2m1 0h3m1 0h1m2 0h3m2 0h1m1 0h3m1 0h1M4 7.5h1m1 0h3m1 0h1m1 0h1m1 0h7m2 0h6m3 0h1m2 0h1m1 0h3m3 0h1m1 0h1m2 0h3m3 0h1m1 0h1m3 0h2m1 0h3m1 0h1m2 0h1m4 0h2m1 0h1m1 0h4m1 0h4m4 0h1m6 0h1m1 0h1m1 0h3m1 0h1M4 8.5h1m1 0h3m1 0h1m3 0h4m1 0h3m6 0h6m3 0h2m1 0h3m4 0h1m1 0h1m1 0h6m1 0h5m3 0h1m2 0h2m1 0h3m1 0h7m3 0h2m3 0h2m2 0h1m1 0h1m1 0h2m1 0h1m1 0h3m1 0h1M4 9.5h1m5 0h1m1 0h3m2 0h7m2 0h1m1 0h1m3 0h1m1 0h2m1 0h2m1 0h3m1 0h2m5 0h2m3 0h1m5 0h1m1 0h1m2 0h2m1 0h2m1 0h1m2 0h1m3 0h1m1 0h2m1 0h1m1 0h7m5 0h1m2 0h1m5 0h1M4 10.5h7m1 0h1m1 0h1m1 0h1m1 0h1m1 0h1m1 0h1m1 0h1m1 0h1m1 0h1m1 0h1m1 0h1m1 0h1m1 0h1m1 0h1m1 0h1m1 0h1m1 0h1m1 0h1m1 0h1m1 0h1m1 0h1m1 0h1m1 0h1m1 0h1m1 0h1m1 0h1m1 0h1m1 0h1m1 0h1m1 0h1m1 0h1m1 0h1m1 0h1m1 0h1m1 0h1m1 0h1m1 0h1m1 0h1m1 0h1m1 0h1m1 0h1m1 0h1m1 0h1m1 0h1m1 0h1m1 0h7M13 11.5h1m3 0h1m1 0h1m1 0h1m2 0h2m1 0h2m3 0h1m1 0h1m3 0h1m2 0h1m1 0h1m2 0h1m1 0h2m2 0h1m3 0h2m1 0h2m1 0h1m2 0h3m1 0h4m1 0h3m3 0h3m3 0h5m3 0h3m1 0h1m1 0h1M4 12.5h5m1 0h4m3 0h2m1 0h1m1 0h1m2 0h1m2 0h5m2 0h1m1 0h1m1 0h1m1 0h2m1 0h2m2 0h1m3 0h6m2 0h1m3 0h1m3 0h1m1 0h4m2 0h5m1 0h2m1 0h2m1 0h3m2 0h1m1 0h1m2 0h2m1 0h1m1 0h1m1 0h1m1 0h1M4 13.5h1m1 0h1m1 0h2m1 0h1m1 0h1m1 0h3m2 0h2m2 0h3m1 0h1m1 0h4m3 0h2m3 0h1m4 0h2m2 0h1m1 0h2m4 0h3m2 0h2m3 0h5m2 0h3m2 0h1m3 0h3m2 0h1m1 0h1m2 0h2m1 0h1m2 0h1m1 0h2m1 0h1M6 14.5h1m1 0h3m3 0h1m2 0h2m1 0h2m2 0h5m2 0h1m3 0h1m3 0h4m2 0h1m2 0h1m8 0h2m3 0h1m1 0h1m2 0h2m1 0h3m2 0h5m3 0h1m3 0h4m2 0h1m5 0h1m1 0h1m3 0h4M4 15.5h4m7 0h1m1 0h1m2 0h1m1 0h3m3 0h2m2 0h1m1 0h1m3 0h1m1 0h1m2 0h2m1 0h6m1 0h1m1 0h1m2 0h3m1 0h2m1 0h1m1 0h5m4 0h1m1 0h1m1 0h1m1 0h1m2 0h2m1 0h1m5 0h1m5 0h1m1 0h1m1 0h2m2 0h1M4 16.5h2m1 0h8m1 0h2m2 0h3m1 0h1m2 0h2m2 0h5m1 0h7m2 0h1m2 0h2m1 0h1m1 0h1m3 0h1m1 0h1m7 0h1m1 0h2m1 0h2m2 0h1m1 0h5m1 0h7m5 0h3m1 0h2m2 0h1m2 0h1M4 17.5h3m1 0h1m2 0h1m1 0h2m4 0h2m4 0h5m2 0h3m3 0h1m1 0h1m1 0h1m2 0h1m1 0h1m4 0h1m1 0h2m1 0h4m1 0h2m1 0h1m1 0h1m1 0h2m1 0h1m1 0h1m2 0h1m2 0h1m1 0h1m2 0h1m2 0h1m1 0h1m1 0h2m3 0h1m5 0h1m2 0h1M5 18.5h1m1 0h1m2 0h3m3 0h2m2 0h6m1 0h5m2 0h1m1 0h2m1 0h5m2 0h2m2 0h1m1 0h3m2 0h1m2 0h3m1 0h1m2 0h1m8 0h1m2 0h1m3 0h1m1 0h6m1 0h1m2 0h3m1 0h1m1 0h6M4 19.5h2m1 0h3m1 0h1m2 0h2m6 0h4m1 0h1m1 0h2m1 0h1m2 0h1m1 0h2m1 0h1m2 0h3m2 0h3m2 0h3m2 0h2m1 0h1m1 0h1m1 0h1m3 0h2m1 0h1m2 0h2m3 0h1m1 0h1m1 0h2m2 0h1m4 0h2m1 0h1m2 0h2m2 0h1m2 0h3M4 20.5h2m1 0h4m2 0h4m1 0h4m1 0h1m1 0h3m2 0h7m1 0h5m1 0h2m3 0h3m7 0h1m1 0h1m5 0h2m1 0h2m3 0h6m3 0h1m1 0h6m1 0h1m3 0h4m1 0h1m2 0h2m1 0h1M4 21.5h3m4 0h1m1 0h3m4 0h1m1 0h2m1 0h1m1 0h1m4 0h7m1 0h1m1 0h1m2 0h1m4 0h1m1 0h1m1 0h2m3 0h2m2 0h1m1 0h1m3 0h1m4 0h3m1 0h1m1 0h1m2 0h1m1 0h2m1 0h1m1 0h1m1 0h5m2 0h2m2 0h2m1 0h1M5 22.5h3m2 0h1m1 0h1m2 0h2m1 0h1m2 0h2m2 0h2m1 0h2m1 0h1m3 0h1m2 0h5m3 0h1m1 0h1m1 0h1m2 0h1m5 0h3m2 0h1m2 0h1m1 0h2m4 0h1m3 0h1m1 0h1m1 0h1m2 0h5m3 0h1m1 0h1m2 0h1m1 0h1m1 0h4m1 0h1M4 23.5h2m2 0h2m2 0h1m1 0h2m1 0h1m2 0h1m1 0h2m1 0h2m3 0h1m1 0h1m3 0h2m2 0h1m2 0h1m1 0h2m1 0h8m1 0h1m5 0h1m1 0h1m2 0h1m4 0h3m1 0h2m1 0h1m1 0h4m2 0h1m2 0h1m1 0h3m1 0h1m3 0h2m1 0h1m1 0h1m1 0h1M4 24.5h3m2 0h4m1 0h1m4 0h1m3 0h1m2 0h7m1 0h1m1 0h1m1 0h3m1 0h1m4 0h2m1 0h1m3 0h1m3 0h1m2 0h1m5 0h4m1 0h3m1 0h1m2 0h2m1 0h1m1 0h1m1 0h3m1 0h1m5 0h1m2 0h5m1 0h2m1 0h1M5 25.5h1m6 0h1m2 0h1m2 0h1m1 0h2m1 0h1m1 0h2m1 0h1m1 0h1m1 0h1m4 0h2m1 0h2m1 0h1m3 0h1m1 0h1m1 0h2m2 0h1m1 0h1m5 0h1m1 0h2m1 0h4m3 0h2m1 0h1m1 0h2m2 0h3m1 0h1m1 0h2m2 0h1m2 0h1m1 0h4m3 0h1M5 26.5h1m2 0h1m1 0h3m2 0h2m6 0h2m1 0h1m1 0h1m1 0h2m1 0h3m2 0h1m1 0h1m1 0h1m4 0h4m1 0h4m1 0h2m2 0h1m3 0h3m1 0h1m2 0h2m2 0h1m3 0h1m2 0h2m1 0h2m1 0h1m3 0h2m1 0h4m2 0h2m1 0h1M4 27.5h4m4 0h1m2 0h1m2 0h1m5 0h2m1 0h4m1 0h1m3 0h2m3 0h1m1 0h1m3 0h3m1 0h1m1 0h2m2 0h2m4 0h4m1 0h1m1 0h1m1 0h1m1 0h1m1 0h1m1 0h1m1 0h4m1 0h1m2 0h1m2 0h1m1 0h3m1 0h1m2 0h3m1 0h3M5 28.5h8m1 0h1m4 0h1m3 0h1m2 0h1m1 0h6m2 0h1m1 0h1m1 0h1m1 0h1m7 0h7m1 0h1m1 0h2m1 0h1m3 0h2m1 0h2m1 0h1m2 0h6m1 0h1m2 0h4m4 0h2m2 0h7m3 0h1M4 29.5h3m1 0h1m3 0h2m1 0h1m3 0h2m1 0h5m1 0h1m3 0h1m2 0h1m1 0h2m3 0h2m1 0h3m1 0h1m2 0h1m3 0h5m2 0h3m2 0h1m2 0h2m2 0h2m3 0h1m2 0h1m1 0h2m2 0h1m1 0h1m1 0h1m2 0h1m3 0h1m3 0h2M5 30.5h2m1 0h1m1 0h1m1 0h6m1 0h2m1 0h2m2 0h3m1 0h1m1 0h2m2 0h1m1 0h1m1 0h1m1 0h1m2 0h1m1 0h1m2 0h1m1 0h1m1 0h1m1 0h1m1 0h2m1 0h1m1 0h1m2 0h2m2 0h1m4 0h2m1 0h1m1 0h2m1 0h2m1 0h1m3 0h1m2 0h1m1 0h1m3 0h2m1 0h1m1 0h1m1 0h1M5 31.5h2m1 0h1m3 0h1m4 0h6m1 0h2m2 0h1m3 0h1m1 0h4m3 0h3m2 0h1m2 0h1m1 0h2m3 0h3m5 0h2m2 0h1m2 0h6m3 0h1m1 0h4m1 0h2m1 0h2m1 0h2m2 0h1m1 0h2m3 0h3m1 0h1M7 32.5h6m1 0h1m2 0h1m4 0h2m2 0h1m1 0h6m2 0h2m1 0h1m7 0h1m1 0h1m2 0h5m1 0h2m2 0h1m2 0h1m1 0h4m1 0h1m1 0h1m1 0h6m2 0h1m4 0h1m3 0h3m1 0h1m2 0h5m1 0h1M4 33.5h3m4 0h2m1 0h1m3 0h1m1 0h1m3 0h3m1 0h1m6 0h1m2 0h6m7 0h4m2 0h6m2 0h1m2 0h1m2 0h4m5 0h1m3 0h3m2 0h3m2 0h1m3 0h2m4 0h2m1 0h2M7 34.5h4m1 0h1m1 0h2m3 0h2m5 0h2m1 0h1m1 0h1m1 0h1m3 0h4m1 0h3m2 0h1m1 0h1m4 0h1m1 0h1m1 0h2m1 0h2m4 0h1m2 0h1m3 0h1m2 0h1m1 0h3m1 0h1m1 0h3m1 0h1m5 0h1m1 0h2m1 0h3m3 0h2M6 35.5h3m10 0h2m2 0h1m1 0h1m1 0h2m2 0h1m2 0h3m3 0h2m1 0h4m4 0h5m1 0h2m1 0h2m3 0h1m1 0h1m2 0h4m1 0h1m3 0h1m2 0h2m1 0h1m1 0h3m2 0h1m4 0h1m4 0h2m3 0h1M4 36.5h4m2 0h1m1 0h4m9 0h3m1 0h1m1 0h3m3 0h2m2 0h1m3 0h3m1 0h1m2 0h1m5 0h1m1 0h1m1 0h1m1 0h1m3 0h2m2 0h1m1 0h1m1 0h2m1 0h1m1 0h1m2 0h6m1 0h2m1 0h2m1 0h1m1 0h4m4 0h1M5 37.5h1m1 0h1m3 0h2m1 0h4m2 0h3m1 0h1m1 0h3m6 0h1m2 0h1m1 0h2m1 0h1m1 0h2m5 0h3m1 0h4m1 0h1m1 0h1m1 0h2m1 0h1m2 0h6m2 0h2m4 0h1m1 0h3m2 0h2m6 0h1m2 0h1m2 0h1M8 38.5h3m1 0h2m1 0h1m2 0h1m1 0h3m5 0h2m1 0h3m1 0h3m2 0h1m2 0h2m2 0h1m1 0h1m4 0h2m2 0h1m2 0h2m1 0h1m2 0h1m2 0h1m3 0h1m1 0h2m2 0h2m3 0h1m4 0h1m1 0h1m3 0h2m2 0h2m4 0h3M6 39.5h1m1 0h1m11 0h3m2 0h1m1 0h2m2 0h1m2 0h1m3 0h1m2 0h1m1 0h2m6 0h1m1 0h10m4 0h1m2 0h4m5 0h2m1 0h2m1 0h2m1 0h3m1 0h1m1 0h1m1 0h1m3 0h1m1 0h2m4 0h1M4 40.5h1m1 0h1m1 0h3m2 0h6m1 0h1m2 0h1m1 0h1m1 0h3m2 0h1m2 0h2m1 0h2m6 0h2m1 0h1m2 0h1m4 0h1m1 0h2m8 0h1m2 0h1m1 0h1m1 0h2m5 0h1m1 0h1m2 0h1m2 0h2m1 0h1m2 0h1m1 0h3m3 0h4M7 41.5h1m1 0h1m2 0h2m1 0h1m1 0h3m1 0h2m3 0h1m1 0h1m3 0h4m1 0h1m2 0h3m1 0h3m4 0h1m1 0h2m7 0h4m1 0h1m3 0h6m4 0h1m1 0h3m2 0h4m2 0h3m3 0h2m1 0h1m1 0h2M5 42.5h1m2 0h1m1 0h1m1 0h3m3 0h2m1 0h2m5 0h2m1 0h2m5 0h1m4 0h2m1 0h2m1 0h1m4 0h2m1 0h3m1 0h1m2 0h1m4 0h1m1 0h1m2 0h4m2 0h1m1 0h1m2 0h2m3 0h1m1 0h1m1 0h2m1 0h1m1 0h5m1 0h4M4 43.5h1m1 0h1m2 0h1m1 0h1m4 0h3m1 0h3m11 0h3m3 0h1m1 0h5m5 0h5m1 0h1m2 0h1m2 0h1m5 0h1m1 0h2m5 0h1m1 0h4m6 0h2m1 0h1m4 0h1m2 0h1m1 0h1m3 0h1M4 44.5h3m1 0h4m2 0h1m1 0h1m1 0h1m2 0h3m1 0h5m1 0h1m4 0h1m1 0h1m2 0h1m1 0h2m1 0h1m1 0h3m4 0h2m1 0h2m1 0h1m2 0h2m1 0h1m1 0h1m2 0h6m1 0h2m3 0h5m2 0h1m2 0h1m1 0h1m1 0h3m1 0h1m1 0h2m1 0h2M7 45.5h3m3 0h2m2 0h2m2 0h2m4 0h1m4 0h5m1 0h1m4 0h4m3 0h1m1 0h3m7 0h2m1 0h4m2 0h1m1 0h3m1 0h2m1 0h1m1 0h3m2 0h3m2 0h3m1 0h2m3 0h1m1 0h1m2 0h1m1 0h1M4 46.5h1m1 0h2m1 0h2m3 0h1m1 0h1m1 0h5m1 0h5m4 0h2m3 0h3m5 0h3m4 0h1m1 0h3m1 0h1m1 0h1m2 0h1m2 0h3m2 0h2m1 0h3m2 0h2m3 0h1m2 0h2m2 0h1m1 0h1m1 0h1m1 0h1m2 0h5m1 0h1M7 47.5h3m3 0h1m3 0h2m1 0h2m1 0h1m1 0h2m3 0h1m3 0h9m1 0h3m2 0h2m1 0h1m1 0h4m4 0h1m1 0h1m2 0h1m2 0h1m1 0h2m3 0h1m1 0h2m1 0h4m1 0h1m1 0h1m1 0h4m3 0h1m3 0h1m2 0h4M5 48.5h1m2 0h1m1 0h1m1 0h2m1 0h1m2 0h1m2 0h3m1 0h1m1 0h3m1 0h1m4 0h2m1 0h2m2 0h2m1 0h5m6 0h3m3 0h1m1 0h2m1 0h2m1 0h2m2 0h4m1 0h1m1 0h1m1 0h2m1 0h2m2 0h1m2 0h2m2 0h2m2 0h1m2 0h1M5 49.5h2m2 0h1m1 0h1m1 0h3m1 0h3m4 0h1m1 0h2m2 0h2m1 0h1m1 0h2m2 0h3m2 0h3m2 0h2m1 0h2m4 0h1m2 0h1m1 0h1m2 0h3m2 0h2m2 0h1m4 0h1m2 0h2m1 0h4m1 0h4m1 0h2m4 0h2m2 0h1m1 0h1M5 50.5h1m4 0h1m2 0h2m3 0h5m1 0h1m1 0h3m1 0h1m1 0h3m2 0h1m2 0h1m2 0h1m2 0h2m6 0h1m1 0h4m1 0h6m2 0h1m3 0h6m3 0h1m5 0h1m3 0h1m1 0h3m3 0h1m1 0h1m3 0h2M4 51.5h2m1 0h1m1 0h1m1 0h5m1 0h4m1 0h1m2 0h2m3 0h1m3 0h6m1 0h1m3 0h2m5 0h1m1 0h1m3 0h1m2 0h1m2 0h1m5 0h2m6 0h2m1 0h4m1 0h2m1 0h1m2 0h3m1 0h2m3 0h2m2 0h1m2 0h1M5 52.5h1m1 0h6m1 0h1m1 0h1m2 0h1m6 0h8m2 0h3m4 0h3m1 0h1m2 0h1m1 0h8m2 0h6m2 0h1m4 0h7m2 0h1m6 0h1m1 0h1m3 0h1m2 0h8M5 53.5h1m1 0h2m3 0h1m1 0h4m1 0h1m2 0h3m3 0h1m3 0h2m1 0h2m1 0h2m1 0h1m1 0h2m1 0h3m1 0h3m3 0h2m6 0h1m1 0h4m2 0h3m1 0h1m3 0h2m1 0h3m1 0h1m1 0h1m1 0h1m2 0h5m1 0h1m3 0h2m1 0h2M5 54.5h2m1 0h1m1 0h1m1 0h1m2 0h2m1 0h6m1 0h4m1 0h1m1 0h2m2 0h1m3 0h1m3 0h1m1 0h3m1 0h1m1 0h1m1 0h1m1 0h1m1 0h1m1 0h1m1 0h5m2 0h5m1 0h2m1 0h1m1 0h3m1 0h2m2 0h1m2 0h8m1 0h1m1 0h1m1 0h1m2 0h2M4 55.5h1m1 0h3m3 0h1m1 0h1m1 0h1m2 0h1m1 0h2m3 0h3m3 0h1m1 0h1m1 0h1m2 0h1m1 0h1m2 0h1m2 0h1m1 0h2m1 0h1m3 0h2m2 0h1m3 0h1m2 0h1m1 0h1m1 0h2m1 0h3m3 0h6m1 0h1m1 0h1m3 0h8m3 0h2M5 56.5h1m2 0h5m1 0h1m6 0h3m2 0h9m2 0h1m5 0h6m1 0h1m1 0h7m3 0h10m2 0h7m1 0h2m1 0h1m7 0h1m1 0h1m2 0h1m1 0h5m1 0h1M5 57.5h1m1 0h2m3 0h1m1 0h1m3 0h1m2 0h1m1 0h1m2 0h1m1 0h2m1 0h2m1 0h1m1 0h1m2 0h1m1 0h1m6 0h1m1 0h1m2 0h2m3 0h2m1 0h2m1 0h1m1 0h7m2 0h2m5 0h1m4 0h1m1 0h1m1 0h3m2 0h2m2 0h2m1 0h3m1 0h2M5 58.5h1m1 0h1m2 0h1m7 0h1m2 0h1m2 0h1m2 0h1m6 0h1m2 0h1m2 0h1m2 0h1m2 0h1m1 0h3m2 0h2m1 0h1m5 0h5m2 0h1m2 0h2m1 0h2m1 0h4m3 0h1m2 0h1m2 0h1m1 0h2m2 0h1m1 0h4m5 0h1M4 59.5h1m3 0h2m1 0h1m2 0h3m1 0h1m1 0h1m1 0h1m1 0h2m3 0h1m1 0h2m1 0h1m1 0h1m2 0h1m1 0h1m2 0h1m4 0h2m2 0h3m1 0h5m2 0h1m2 0h1m1 0h1m1 0h1m1 0h1m7 0h2m4 0h1m1 0h1m2 0h1m3 0h1m3 0h3m2 0h1m1 0h2M5 60.5h2m2 0h3m2 0h4m5 0h6m1 0h1m2 0h2m1 0h2m3 0h4m1 0h1m3 0h1m1 0h4m3 0h2m1 0h3m1 0h1m2 0h3m3 0h3m3 0h1m1 0h3m4 0h3m2 0h1m8 0h1m1 0h3M4 61.5h1m1 0h2m1 0h1m1 0h6m1 0h1m1 0h2m2 0h2m2 0h1m1 0h2m1 0h2m4 0h1m4 0h1m1 0h1m1 0h1m1 0h1m5 0h1m1 0h1m2 0h2m1 0h2m1 0h1m3 0h2m3 0h1m1 0h2m1 0h2m1 0h1m2 0h1m1 0h1m2 0h3m3 0h2m3 0h1M6 62.5h1m1 0h3m2 0h2m2 0h1m1 0h3m3 0h2m1 0h1m1 0h1m2 0h1m3 0h1m3 0h1m1 0h1m2 0h2m1 0h1m4 0h5m3 0h1m1 0h3m2 0h2m2 0h1m7 0h5m3 0h3m2 0h1m1 0h1m2 0h1m3 0h1m2 0h2M5 63.5h1m2 0h2m1 0h2m1 0h4m1 0h3m2 0h4m3 0h1m2 0h1m5 0h3m1 0h3m2 0h1m6 0h1m3 0h2m1 0h3m1 0h1m1 0h2m1 0h2m2 0h2m1 0h1m2 0h2m4 0h3m1 0h1m1 0h1m4 0h2m4 0h3M4 64.5h1m1 0h1m1 0h1m1 0h1m1 0h5m5 0h3m1 0h5m3 0h2m1 0h1m1 0h2m1 0h4m1 0h2m2 0h2m1 0h2m1 0h1m2 0h1m1 0h2m1 0h1m6 0h1m3 0h1m1 0h1m3 0h2m1 0h1m2 0h5m3 0h1m1 0h4m2 0h1m3 0h1M4 65.5h1m1 0h1m1 0h1m3 0h2m1 0h2m1 0h1m1 0h2m4 0h1m4 0h1m1 0h2m4 0h3m2 0h4m1 0h2m5 0h1m2 0h4m2 0h1m1 0h1m2 0h5m2 0h3m1 0h2m4 0h4m1 0h1m4 0h1m1 0h1m3 0h1m1 0h1m2 0h1M5 66.5h3m2 0h1m2 0h1m1 0h5m1 0h1m2 0h1m3 0h2m4 0h4m1 0h5m1 0h2m2 0h9m4 0h2m1 0h1m4 0h2m1 0h2m7 0h2m1 0h1m2 0h1m2 0h1m1 0h1m3 0h4m1 0h2m2 0h1m1 0h1M5 67.5h1m1 0h1m3 0h3m3 0h3m4 0h1m1 0h2m3 0h1m1 0h2m1 0h1m5 0h1m1 0h1m1 0h3m3 0h2m2 0h1m1 0h4m1 0h2m2 0h1m1 0h1m4 0h2m1 0h1m1 0h1m1 0h2m5 0h3m1 0h1m2 0h2m1 0h1m2 0h3m1 0h1M5 68.5h1m4 0h2m1 0h5m1 0h1m3 0h1m2 0h1m1 0h1m1 0h1m3 0h1m1 0h1m2 0h1m2 0h3m1 0h1m1 0h1m1 0h1m2 0h3m1 0h1m3 0h1m1 0h2m4 0h3m1 0h1m2 0h1m1 0h1m3 0h1m2 0h1m2 0h2m1 0h2m3 0h1m1 0h2m1 0h1m1 0h2m1 0h2M5 69.5h1m1 0h1m3 0h4m2 0h1m4 0h1m3 0h2m1 0h1m1 0h1m1 0h3m4 0h2m2 0h2m1 0h6m1 0h1m1 0h1m2 0h1m1 0h2m2 0h3m7 0h2m2 0h1m1 0h4m2 0h1m2 0h1m1 0h5m3 0h4m1 0h1M4 70.5h4m2 0h2m1 0h1m1 0h3m1 0h1m8 0h2m4 0h2m1 0h4m1 0h5m3 0h1m1 0h2m1 0h3m6 0h2m2 0h1m1 0h2m1 0h1m8 0h1m3 0h1m1 0h3m1 0h1m1 0h1m3 0h1m2 0h3m1 0h1M4 71.5h5m2 0h2m3 0h1m2 0h1m2 0h2m2 0h1m2 0h3m1 0h3m1 0h2m1 0h3m4 0h3m4 0h1m1 0h1m1 0h3m3 0h1m4 0h1m9 0h1m1 0h3m3 0h2m2 0h6m6 0h2M4 72.5h1m2 0h4m2 0h7m1 0h2m1 0h3m1 0h3m1 0h1m1 0h1m2 0h1m3 0h4m3 0h1m1 0h1m1 0h2m1 0h1m1 0h1m1 0h2m1 0h1m3 0h1m2 0h1m1 0h1m1 0h1m1 0h1m1 0h1m4 0h2m1 0h5m2 0h1m1 0h1m1 0h1m1 0h4m1 0h1m1 0h2M4 73.5h1m2 0h1m3 0h1m1 0h2m1 0h1m1 0h1m3 0h5m1 0h1m1 0h1m2 0h2m1 0h1m6 0h1m3 0h5m3 0h1m4 0h1m2 0h2m1 0h2m1 0h1m6 0h2m1 0h7m2 0h1m1 0h4m1 0h4m1 0h1m2 0h5M4 74.5h1m1 0h2m2 0h1m3 0h1m2 0h6m1 0h1m1 0h5m1 0h1m1 0h1m1 0h1m3 0h2m1 0h3m4 0h3m4 0h1m1 0h1m2 0h3m2 0h2m1 0h2m1 0h1m1 0h5m2 0h1m3 0h1m3 0h6m2 0h2m1 0h1m1 0h2M5 75.5h2m2 0h1m1 0h3m6 0h1m1 0h1m1 0h2m1 0h2m1 0h2m1 0h3m1 0h1m1 0h1m1 0h1m2 0h2m1 0h3m1 0h3m1 0h2m1 0h1m2 0h2m1 0h2m1 0h2m9 0h2m1 0h3m1 0h2m3 0h2m1 0h2m1 0h2m5 0h1m3 0h1M4 76.5h1m2 0h6m1 0h1m2 0h1m1 0h1m1 0h3m2 0h8m2 0h2m1 0h3m1 0h1m1 0h1m2 0h1m1 0h1m1 0h6m4 0h3m1 0h2m2 0h2m1 0h1m1 0h6m4 0h1m4 0h2m1 0h1m4 0h7M5 77.5h1m1 0h2m3 0h1m1 0h1m2 0h2m3 0h1m2 0h2m1 0h1m3 0h1m1 0h1m1 0h4m2 0h1m1 0h1m2 0h6m3 0h1m3 0h1m1 0h6m1 0h2m5 0h1m3 0h3m1 0h5m1 0h3m3 0h3m1 0h1m3 0h2m1 0h1M6 78.5h3m1 0h1m1 0h2m2 0h1m1 0h5m1 0h2m2 0h1m1 0h1m1 0h2m1 0h1m4 0h2m1 0h3m4 0h3m1 0h1m1 0h1m7 0h1m5 0h1m1 0h2m2 0h1m1 0h1m1 0h4m3 0h2m3 0h2m2 0h1m1 0h3m1 0h1m1 0h1M4 79.5h1m1 0h1m1 0h1m3 0h1m1 0h3m1 0h2m2 0h1m1 0h2m2 0h1m3 0h1m4 0h2m3 0h1m3 0h1m1 0h2m2 0h1m3 0h5m2 0h2m2 0h1m1 0h3m4 0h1m3 0h1m5 0h1m5 0h1m1 0h1m2 0h1m1 0h2m3 0h2m1 0h1M4 80.5h1m2 0h6m3 0h2m1 0h1m3 0h1m2 0h1m1 0h5m2 0h1m1 0h1m1 0h1m2 0h2m1 0h1m1 0h1m1 0h2m1 0h6m2 0h1m3 0h1m1 0h2m2 0h1m2 0h2m1 0h6m1 0h1m1 0h6m2 0h1m3 0h1m1 0h6m1 0h1M7 81.5h2m2 0h2m1 0h1m1 0h1m1 0h1m1 0h1m1 0h1m2 0h2m1 0h4m2 0h1m2 0h7m6 0h1m4 0h2m1 0h3m1 0h3m2 0h1m1 0h2m5 0h4m6 0h3m2 0h1m3 0h1m2 0h1m1 0h2m2 0h4M6 82.5h2m2 0h2m4 0h1m2 0h2m2 0h2m1 0h1m1 0h1m3 0h1m2 0h1m2 0h3m1 0h1m1 0h2m2 0h4m1 0h1m1 0h2m1 0h1m2 0h1m2 0h1m1 0h1m1 0h1m1 0h1m1 0h5m2 0h1m3 0h1m1 0h1m7 0h1m3 0h1m2 0h1m2 0h4m1 0h1M4 83.5h4m5 0h1m2 0h1m1 0h1m1 0h2m1 0h1m3 0h1m1 0h2m1 0h1m7 0h3m3 0h3m2 0h2m6 0h3m3 0h1m3 0h2m1 0h1m1 0h2m1 0h4m1 0h1m5 0h3m1 0h1m1 0h2m2 0h1m1 0h2m2 0h3m1 0h1M4 84.5h4m1 0h4m4 0h1m1 0h1m1 0h1m1 0h1m1 0h1m2 0h1m1 0h4m1 0h1m1 0h6m1 0h2m4 0h1m2 0h1m6 0h5m2 0h2m1 0h4m2 0h1m1 0h1m1 0h1m2 0h1m1 0h1m2 0h3m2 0h1m3 0h3m1 0h3m4 0h1M7 85.5h2m2 0h2m3 0h1m1 0h1m1 0h3m1 0h1m1 0h1m2 0h4m1 0h1m4 0h2m1 0h1m1 0h1m2 0h1m3 0h2m2 0h2m2 0h2m1 0h4m2 0h5m4 0h4m1 0h1m2 0h1m1 0h2m1 0h1m4 0h2m7 0h1m1 0h3M7 86.5h2m1 0h2m1 0h2m1 0h1m3 0h1m4 0h1m2 0h1m5 0h2m1 0h6m2 0h1m1 0h5m1 0h1m1 0h4m5 0h1m2 0h1m2 0h1m3 0h1m1 0h1m2 0h1m2 0h2m1 0h1m1 0h5m1 0h1m3 0h2m1 0h1m1 0h4m1 0h1M7 87.5h2m2 0h1m1 0h4m1 0h1m1 0h2m1 0h4m2 0h3m1 0h2m2 0h2m1 0h1m2 0h2m1 0h1m1 0h5m2 0h2m1 0h6m1 0h1m1 0h1m1 0h2m6 0h2m1 0h2m3 0h1m2 0h1m5 0h1m1 0h1m2 0h1m4 0h1m1 0h1m1 0h1M4 88.5h5m1 0h3m1 0h3m2 0h2m2 0h1m1 0h2m1 0h1m1 0h6m1 0h1m1 0h4m2 0h1m7 0h1m1 0h1m4 0h2m5 0h1m1 0h1m3 0h1m2 0h1m1 0h2m3 0h1m2 0h5m2 0h1m3 0h1m1 0h1m1 0h1m1 0h1m1 0h3M4 89.5h1m1 0h1m7 0h2m5 0h1m1 0h1m1 0h1m3 0h3m6 0h1m1 0h1m1 0h4m2 0h5m4 0h1m1 0h3m1 0h1m1 0h1m1 0h2m5 0h1m2 0h2m6 0h1m2 0h1m1 0h1m2 0h4m5 0h1m1 0h1m1 0h1m1 0h1M9 90.5h3m4 0h1m6 0h2m1 0h1m1 0h1m3 0h3m3 0h7m1 0h1m2 0h3m1 0h1m2 0h6m2 0h1m2 0h1m1 0h1m3 0h2m1 0h1m7 0h2m1 0h5m4 0h2m1 0h8M4 91.5h1m3 0h1m6 0h1m1 0h3m2 0h1m1 0h3m4 0h2m1 0h1m2 0h2m1 0h1m2 0h1m1 0h3m1 0h4m1 0h7m2 0h1m1 0h1m4 0h2m6 0h1m1 0h1m4 0h1m2 0h1m3 0h1m1 0h1m1 0h2m4 0h3m1 0h3M4 92.5h4m2 0h1m1 0h1m1 0h2m1 0h2m1 0h1m2 0h4m1 0h3m4 0h1m2 0h9m3 0h1m3 0h1m6 0h1m5 0h1m1 0h5m2 0h1m1 0h3m1 0h1m3 0h7m4 0h1m1 0h2m2 0h5M4 93.5h1m2 0h1m3 0h2m1 0h3m1 0h3m2 0h3m3 0h2m1 0h1m1 0h1m2 0h2m1 0h1m1 0h1m2 0h2m1 0h1m2 0h3m1 0h1m1 0h1m1 0h1m3 0h1m1 0h1m1 0h1m1 0h1m1 0h2m5 0h1m1 0h3m2 0h2m1 0h1m1 0h2m2 0h1m1 0h2m1 0h1m3 0h1m2 0h2M7 94.5h1m2 0h1m9 0h3m1 0h3m1 0h1m2 0h2m1 0h3m1 0h5m3 0h1m2 0h3m2 0h2m1 0h2m2 0h1m2 0h1m2 0h1m2 0h1m2 0h2m1 0h1m2 0h3m4 0h5m2 0h2m1 0h1m2 0h2m1 0h2m1 0h2M4 95.5h1m3 0h1m6 0h1m1 0h4m1 0h1m1 0h3m1 0h3m1 0h1m1 0h1m1 0h2m2 0h1m2 0h1m2 0h2m1 0h1m1 0h2m2 0h2m3 0h1m2 0h1m1 0h1m2 0h2m2 0h2m3 0h1m2 0h2m1 0h3m2 0h1m2 0h1m1 0h2m2 0h2m2 0h1m1 0h2m1 0h1M4 96.5h1m3 0h4m4 0h2m5 0h2m3 0h1m3 0h4m2 0h3m1 0h1m3 0h2m2 0h1m1 0h3m2 0h5m4 0h3m1 0h2m1 0h2m1 0h1m1 0h1m1 0h4m2 0h3m1 0h1m2 0h3m2 0h3m1 0h5m1 0h1M4 97.5h1m1 0h2m3 0h1m1 0h3m2 0h1m3 0h3m4 0h1m2 0h1m2 0h4m1 0h1m2 0h1m5 0h2m3 0h1m1 0h1m1 0h2m3 0h1m2 0h1m1 0h3m1 0h1m1 0h1m4 0h2m3 0h3m1 0h4m2 0h2m3 0h1m3 0h2m1 0h2M4 98.5h3m3 0h1m1 0h1m5 0h2m1 0h1m4 0h4m1 0h3m1 0h2m1 0h5m3 0h1m3 0h1m2 0h3m5 0h1m1 0h1m2 0h2m1 0h1m1 0h1m2 0h1m1 0h1m1 0h1m2 0h1m4 0h3m1 0h1m2 0h1m3 0h1m1 0h1m2 0h4m2 0h1M6 99.5h1m1 0h2m1 0h2m2 0h1m1 0h1m3 0h1m1 0h4m2 0h1m1 0h1m2 0h2m1 0h1m1 0h5m1 0h2m1 0h1m3 0h1m4 0h3m4 0h1m3 0h1m2 0h3m1 0h1m2 0h1m1 0h2m2 0h2m3 0h1m1 0h1m1 0h1m2 0h3m1 0h2m2 0h1m1 0h2M7 100.5h2m1 0h2m4 0h1m4 0h1m2 0h2m2 0h6m1 0h1m2 0h1m3 0h1m3 0h3m1 0h7m1 0h2m1 0h1m2 0h2m1 0h2m1 0h1m4 0h7m1 0h1m2 0h1m3 0h1m3 0h4m2 0h6m2 0h1M12 101.5h1m1 0h2m1 0h1m3 0h4m1 0h1m1 0h1m3 0h1m3 0h3m1 0h2m1 0h1m1 0h2m3 0h3m3 0h4m3 0h4m1 0h4m4 0h1m3 0h1m2 0h4m2 0h1m1 0h1m2 0h1m4 0h2m3 0h1M4 102.5h7m1 0h1m1 0h1m1 0h3m1 0h2m3 0h1m1 0h2m1 0h1m1 0h2m1 0h1m2 0h1m1 0h2m3 0h1m1 0h1m1 0h1m1 0h2m1 0h1m1 0h1m1 0h2m1 0h1m5 0h1m7 0h2m1 0h1m1 0h2m1 0h1m2 0h1m1 0h3m2 0h1m1 0h1m4 0h1m1 0h1m1 0h1m1 0h1M4 103.5h1m5 0h1m2 0h2m1 0h1m1 0h1m1 0h2m2 0h2m2 0h1m3 0h1m1 0h1m1 0h2m1 0h2m1 0h2m1 0h1m3 0h1m1 0h2m3 0h5m2 0h1m4 0h6m1 0h2m3 0h1m1 0h1m2 0h1m1 0h2m1 0h2m2 0h1m3 0h3m3 0h5M4 104.5h1m1 0h3m1 0h1m1 0h2m2 0h1m1 0h1m5 0h2m2 0h6m1 0h1m1 0h1m2 0h2m4 0h2m1 0h1m1 0h6m1 0h4m4 0h3m3 0h1m1 0h1m1 0h6m1 0h1m1 0h1m7 0h3m1 0h1m1 0h6m1 0h3M4 105.5h1m1 0h3m1 0h1m1 0h1m1 0h1m3 0h1m3 0h1m3 0h1m1 0h1m1 0h3m2 0h1m1 0h1m1 0h1m2 0h2m1 0h2m4 0h1m1 0h1m1 0h1m1 0h2m1 0h1m1 0h1m2 0h2m1 0h1m1 0h5m1 0h1m1 0h3m2 0h2m1 0h3m1 0h2m2 0h1m2 0h1m5 0h2m1 0h1M4 106.5h1m1 0h3m1 0h1m1 0h1m1 0h3m3 0h1m1 0h2m1 0h1m1 0h1m2 0h2m1 0h1m2 0h1m2 0h1m1 0h1m2 0h2m1 0h1m1 0h1m2 0h3m3 0h1m1 0h1m6 0h1m2 0h1m3 0h1m1 0h1m1 0h2m1 0h1m2 0h1m1 0h1m1 0h4m3 0h1m1 0h1m1 0h2m2 0h3M4 107.5h1m5 0h1m1 0h7m1 0h1m4 0h1m1 0h2m3 0h1m1 0h2m1 0h2m2 0h1m13 0h1m1 0h3m1 0h2m1 0h2m1 0h2m1 0h4m1 0h1m4 0h1m1 0h1m3 0h1m2 0h1m1 0h1m1 0h1m4 0h2m2 0h1m1 0h2M4 108.5h7m1 0h2m1 0h1m5 0h6m2 0h1m1 0h3m2 0h1m1 0h5m4 0h1m1 0h1m1 0h1m6 0h1m1 0h1m1 0h1m1 0h1m2 0h3m2 0h1m1 0h4m1 0h3m2 0h5m5 0h2m1 0h1m3 0h3m1 0h1m1 0h1\"/></svg>\n"
      ]
     },
     "execution_count": 12,
     "metadata": {},
     "output_type": "execute_result"
    }
   ],
   "source": [
    "var QRCode = require('qrcode')\n",
    "\n",
    "const segments = [\n",
    "    {data: 'shc:/', mode: 'byte'},\n",
    "    {data: numericJWS, mode: 'numeric'}\n",
    "]\n",
    "\n",
    "let qrSVG\n",
    "QRCode.toString(segments,{type: 'svg', errorCorrectionLevel: 'low', version: 22 }).then(function(result){\n",
    "    qrSVG = result\n",
    "    $$.svg(qrSVG)\n",
    "})\n",
    "\n",
    "// Also print as PNG for scanning later on.\n",
    "\n",
    "\n",
    "QRCode.toFile('./qrcode.png', segments, {width: 800, version: 22})"
   ]
  },
  {
   "cell_type": "markdown",
   "id": "tender-viewer",
   "metadata": {},
   "source": [
    "### QR Code Scanning\n",
    "\n",
    "Now let's try and scan the QR Code!"
   ]
  },
  {
   "cell_type": "code",
   "execution_count": 13,
   "id": "inner-enhancement",
   "metadata": {
    "scrolled": true
   },
   "outputs": [
    {
     "name": "stdout",
     "output_type": "stream",
     "text": [
      "Are the QR Codes Equal? true\n",
      "shc:/56762909524320603460292437404460312229595326546034602925407728043360287028647167452228092862122256653722370429635625447453424003564233364124297431427521394155375341407543031245324324075339375955045557327736605736010641293361123274243503696800275229652430713203294260360023586029433809662112564533625234275563340569313057055726533756365573572422555026577335647356560821750322413323240528406877033269574275366471596238736609082760405342547408203970035432241027442763435955257071633441733270632870296120666834105961432805076125221257052111652007452855450873740031747275762943272664064003663711243122453623750476210657033472556363722309745432774371380507717732564360424575720512106865772968450811253061576642607545042600454350737123043837505603521040636344290730436445252966603553045612693603767564337473415507640477210856276824673677597161343864602035082504447209337257342620335700686023207143602400207345664310002433656064403805055920577331422411382733053470213154571076394154697731446126377468116511347564453876755760426259676440210777590841280407437006277376323440544400293172113537270858745267633152075565416040301042556700245904342805251005622709643257340332297570276538556800252821226704366365324455763224005872243836083450376642557257223731283055431012323764530641106760603907442971404136100804715253714460414338563042705534603339653073047743720309304208005621226776327108705859265954501200054242092528377776454435635729635872500642225406074409577422013727083941422100524469356553715305314340125867220442376952035836276145753824505971333854681133552855586640710822046273556043534468231012421110706012750909572522746422645874\n"
     ]
    }
   ],
   "source": [
    "var jsQR = require('jsqr');\n",
    "var PNG = require('pngjs').PNG;\n",
    "\n",
    "\n",
    "imageData = PNG.sync.read(fs.readFileSync('./qrcode.png'))\n",
    "\n",
    "const scannedQR = jsQR(new Uint8ClampedArray(imageData.data.buffer), imageData.width, imageData.height)\n",
    "\n",
    "const qrCodesEqual = scannedQR.data === qrCodeData\n",
    "\n",
    "console.log(\"Are the QR Codes Equal? \" + qrCodesEqual)\n",
    "\n",
    "console.log(scannedQR.data)"
   ]
  },
  {
   "cell_type": "markdown",
   "id": "dense-colleague",
   "metadata": {},
   "source": [
    "### Extracting Data from the QR Code\n",
    "\n",
    "Now let's reverse the process to get the original data back and check the signature. First, let's extract the JWS."
   ]
  },
  {
   "cell_type": "code",
   "execution_count": 14,
   "id": "engaging-shape",
   "metadata": {},
   "outputs": [
    {
     "name": "stdout",
     "output_type": "stream",
     "text": [
      "eyJ6aXAiOiJERUYiLCJhbGciOiJFUzI1NiIsImtpZCI6Ik9CenRCR1JleFYwbWU0eWNQVEJwLWxBTVdRbVUxX09ZMXE4bTRhd1dfMzQifQ.3VJNj9MwEP0rq-HaJnEKtM0JWiQ-DgiJXS6oB9eZNkaOHdlO2rLKf2fGbReQdvfECd_GfvPmvee5Bx0CVNDE2IUqz0MrfWxQmthkSvo65HiUbWcw5ATs0cME7HYHlXhdFstlOVvMslIsJjAoqO7hjXI24jFC9f2B8nA4ZIdZ5vw-LwuxyJXHGm3U0oR8ELCZQDx1yB3f0OudlluD6wcMzXtS24tzMeXiWZxu297qnzJqZ58FKjfoWixZ1G-ZX_vtD1SR_e0a7UllYJ4KXmZFJoiPb1e9rQ0yxmNwvVd4m1zB5eHqEpQzhtjOSmiAP5F1Yu6NufOGANf-qiDAtXiE-AvZoX7-ENnimUS22hAfvLWE8SHN2OsBLcf7yTVcrzLYjGRwq8n8OxmZSyxfiWkhpmUB4zh5VI14Xs3HvyMOUcY-JLu8PRH5gwaplLa4dnViUK7Wdp-Eh1OI2F72kH6mMfO0MJxsHnSdq-FIBCp1QlnMYdyME-guESQ5O_RoWdufCRLIKdX79MRmb3V7piiT4YJtUVQ751tabtYiVXSeKWsdOiNTnKv1zXu06KW5-eBCpyMt5sghGhc_9-2WW6FIRzyZYPlfJlgu_3WCc34Y6fwC.RH5TVWB-aYrPnbtb2LXU9gpC1WRra0gQHjZxSE_htNScq8NdIdgoUt5C1kvdiXbYqD79W87si9x66fFCwmCmgw\n"
     ]
    }
   ],
   "source": [
    "const scannedJWS = scannedQR\n",
    "    .chunks\n",
    "    .filter(chunk => chunk.type === \"numeric\")[0] // Grab the numeric chunk\n",
    "    .text.match(/(..?)/g) // Split into groups of 2 numeric characters each of which represent a single JWS char\n",
    "    .map(num => String.fromCharCode(parseInt(num, 10) + 45)).join('') // Convert from numeric encoding to JWS\n",
    "\n",
    "console.log(scannedJWS)"
   ]
  },
  {
   "cell_type": "markdown",
   "id": "surgical-techno",
   "metadata": {},
   "source": [
    "Next we can verify the signature and extract the payload"
   ]
  },
  {
   "cell_type": "code",
   "execution_count": 15,
   "id": "arabic-infrastructure",
   "metadata": {},
   "outputs": [],
   "source": [
    "let scannedResult;\n",
    "\n",
    "jose.JWS.createVerify(signingKey)\n",
    "    .verify(jws).then(function(result) {\n",
    "    zlib.inflateRaw(result.payload, function(err, decompressedResult){\n",
    "        scannedResult = decompressedResult.toString('utf8')\n",
    "    })\n",
    "})"
   ]
  },
  {
   "cell_type": "code",
   "execution_count": 16,
   "id": "processed-killer",
   "metadata": {},
   "outputs": [
    {
     "data": {
      "text/plain": [
       "'{\"iss\":\"https://smarthealth.cards/examples/issuer\",\"nbf\":1620992383.218,\"vc\":{\"@context\":[\"https://www.w3.org/2018/credentials/v1\"],\"type\":[\"VerifiableCredential\",\"https://smarthealth.cards#health-card\",\"https://smarthealth.cards#immunization\",\"https://smarthealth.cards#covid19\"],\"credentialSubject\":{\"fhirVersion\":\"4.0.1\",\"fhirBundle\":{\"resourceType\":\"Bundle\",\"type\":\"collection\",\"entry\":[{\"fullUrl\":\"resource:0\",\"resource\":{\"resourceType\":\"Patient\",\"name\":[{\"family\":\"Anyperson\",\"given\":[\"John\",\"B.\"]}],\"birthDate\":\"1951-01-20\"}},{\"fullUrl\":\"resource:1\",\"resource\":{\"resourceType\":\"Immunization\",\"status\":\"completed\",\"vaccineCode\":{\"coding\":[{\"system\":\"http://hl7.org/fhir/sid/cvx\",\"code\":\"207\"}]},\"patient\":{\"reference\":\"resource:0\"},\"occurrenceDateTime\":\"2021-01-01\",\"performer\":[{\"actor\":{\"display\":\"ABC General Hospital\"}}],\"lotNumber\":\"0000001\"}},{\"fullUrl\":\"resource:2\",\"resource\":{\"resourceType\":\"Immunization\",\"status\":\"completed\",\"vaccineCode\":{\"coding\":[{\"system\":\"http://hl7.org/fhir/sid/cvx\",\"code\":\"207\"}]},\"patient\":{\"reference\":\"resource:0\"},\"occurrenceDateTime\":\"2021-01-29\",\"performer\":[{\"actor\":{\"display\":\"ABC General Hospital\"}}],\"lotNumber\":\"0000007\"}}]}}}}'"
      ]
     },
     "execution_count": 16,
     "metadata": {},
     "output_type": "execute_result"
    }
   ],
   "source": [
    "scannedResult"
   ]
  },
  {
   "cell_type": "markdown",
   "id": "interstate-registration",
   "metadata": {},
   "source": [
    "Let's compare this to our original minified payload with whitespace removed"
   ]
  },
  {
   "cell_type": "code",
   "execution_count": 17,
   "id": "least-pregnancy",
   "metadata": {},
   "outputs": [
    {
     "data": {
      "text/plain": [
       "true"
      ]
     },
     "execution_count": 17,
     "metadata": {},
     "output_type": "execute_result"
    }
   ],
   "source": [
    "scannedResult === noWhiteSpaceHealthCard"
   ]
  },
  {
   "cell_type": "markdown",
   "id": "partial-confidentiality",
   "metadata": {},
   "source": [
    "Finally, lets print the entries for easy inspection."
   ]
  },
  {
   "cell_type": "code",
   "execution_count": 18,
   "id": "quick-disaster",
   "metadata": {},
   "outputs": [
    {
     "name": "stdout",
     "output_type": "stream",
     "text": [
      "{\n",
      "  \"fullUrl\": \"resource:0\",\n",
      "  \"resource\": {\n",
      "    \"resourceType\": \"Patient\",\n",
      "    \"name\": [\n",
      "      {\n",
      "        \"family\": \"Roby\",\n",
      "        \"given\": [\n",
      "          \"John\",\n",
      "          \"B.\"\n",
      "        ]\n",
      "      }\n",
      "    ],\n",
      "    \"birthDate\": \"1951-01-20\"\n",
      "  }\n",
      "}\n",
      "{\n",
      "  \"fullUrl\": \"resource:1\",\n",
      "  \"resource\": {\n",
      "    \"resourceType\": \"Immunization\",\n",
      "    \"status\": \"completed\",\n",
      "    \"vaccineCode\": {\n",
      "      \"coding\": [\n",
      "        {\n",
      "          \"system\": \"http://hl7.org/fhir/sid/cvx\",\n",
      "          \"code\": \"207\"\n",
      "        }\n",
      "      ]\n",
      "    },\n",
      "    \"patient\": {\n",
      "      \"reference\": \"resource:0\"\n",
      "    },\n",
      "    \"occurrenceDateTime\": \"2021-01-01\",\n",
      "    \"performer\": [\n",
      "      {\n",
      "        \"actor\": {\n",
      "          \"display\": \"ABC General Hospital\"\n",
      "        }\n",
      "      }\n",
      "    ],\n",
      "    \"lotNumber\": \"0000001\"\n",
      "  }\n",
      "}\n",
      "{\n",
      "  \"fullUrl\": \"resource:2\",\n",
      "  \"resource\": {\n",
      "    \"resourceType\": \"Immunization\",\n",
      "    \"status\": \"completed\",\n",
      "    \"vaccineCode\": {\n",
      "      \"coding\": [\n",
      "        {\n",
      "          \"system\": \"http://hl7.org/fhir/sid/cvx\",\n",
      "          \"code\": \"207\"\n",
      "        }\n",
      "      ]\n",
      "    },\n",
      "    \"patient\": {\n",
      "      \"reference\": \"resource:0\"\n",
      "    },\n",
      "    \"occurrenceDateTime\": \"2021-01-29\",\n",
      "    \"performer\": [\n",
      "      {\n",
      "        \"actor\": {\n",
      "          \"display\": \"ABC General Hospital\"\n",
      "        }\n",
      "      }\n",
      "    ],\n",
      "    \"lotNumber\": \"0000007\"\n",
      "  }\n",
      "}\n"
     ]
    }
   ],
   "source": [
    "const entries = JSON.parse(scannedResult)\n",
    "    .vc.credentialSubject.fhirBundle.entry\n",
    "    .map(entry => console.log(JSON.stringify(entry, null, 2)))"
   ]
  }
 ],
 "metadata": {
  "kernelspec": {
   "display_name": "Javascript (Node.js)",
   "language": "javascript",
   "name": "javascript"
  },
  "language_info": {
   "file_extension": ".js",
   "mimetype": "application/javascript",
   "name": "javascript",
   "version": "15.12.0"
  }
 },
 "nbformat": 4,
 "nbformat_minor": 5
}
